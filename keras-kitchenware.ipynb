{
 "cells": [
  {
   "cell_type": "markdown",
   "id": "5fa7afdb",
   "metadata": {},
   "source": [
    "This is a starter notebook for the [Kitchenware classification](https://www.kaggle.com/competitions/kitchenware-classification) competition on Kaggle\n",
    "\n",
    "To get started:\n",
    "\n",
    "- Join the competition and accept rules\n",
    "- Download your Kaggle credentials file\n",
    "- If you're running in Saturn Cloud, configure your instance to have access to access the kaggle credentials\n",
    "\n",
    "When this is done, we can download the data. We need to execute the following cell only once"
   ]
  },
  {
   "cell_type": "code",
   "execution_count": 1,
   "id": "66021fd7",
   "metadata": {},
   "outputs": [
    {
     "name": "stdout",
     "output_type": "stream",
     "text": [
      "Downloading kitchenware-classification.zip to /home/jovyan/workspace/kitchenware-competition-starter\n",
      "100%|█████████████████████████████████████▉| 1.63G/1.63G [00:23<00:00, 97.9MB/s]\n",
      "100%|██████████████████████████████████████| 1.63G/1.63G [00:23<00:00, 75.6MB/s]\n"
     ]
    }
   ],
   "source": [
    "# !kaggle competitions download -c kitchenware-classification\n",
    "# !mkdir data\n",
    "# !unzip kitchenware-classification.zip -d data > /dev/null\n",
    "# !rm kitchenware-classification.zip"
   ]
  },
  {
   "cell_type": "markdown",
   "id": "93406166",
   "metadata": {},
   "source": [
    "Now let's train a baseline model"
   ]
  },
  {
   "cell_type": "code",
   "execution_count": 1,
   "id": "4af58b8c",
   "metadata": {},
   "outputs": [
    {
     "name": "stderr",
     "output_type": "stream",
     "text": [
      "2022-12-16 07:37:23.857089: I tensorflow/core/util/util.cc:169] oneDNN custom operations are on. You may see slightly different numerical results due to floating-point round-off errors from different computation orders. To turn them off, set the environment variable `TF_ENABLE_ONEDNN_OPTS=0`.\n"
     ]
    }
   ],
   "source": [
    "import numpy as np\n",
    "import pandas as pd\n",
    "import tensorflow as tf\n",
    "\n",
    "from tensorflow import keras"
   ]
  },
  {
   "cell_type": "markdown",
   "id": "3669e2fd",
   "metadata": {},
   "source": [
    "First, we will load the training dataframe and split it into train and validation"
   ]
  },
  {
   "cell_type": "code",
   "execution_count": 2,
   "id": "d6dca2c5",
   "metadata": {},
   "outputs": [
    {
     "data": {
      "text/html": [
       "<div>\n",
       "<style scoped>\n",
       "    .dataframe tbody tr th:only-of-type {\n",
       "        vertical-align: middle;\n",
       "    }\n",
       "\n",
       "    .dataframe tbody tr th {\n",
       "        vertical-align: top;\n",
       "    }\n",
       "\n",
       "    .dataframe thead th {\n",
       "        text-align: right;\n",
       "    }\n",
       "</style>\n",
       "<table border=\"1\" class=\"dataframe\">\n",
       "  <thead>\n",
       "    <tr style=\"text-align: right;\">\n",
       "      <th></th>\n",
       "      <th>Id</th>\n",
       "      <th>label</th>\n",
       "      <th>filename</th>\n",
       "    </tr>\n",
       "  </thead>\n",
       "  <tbody>\n",
       "    <tr>\n",
       "      <th>0</th>\n",
       "      <td>0560</td>\n",
       "      <td>glass</td>\n",
       "      <td>data/images/0560.jpg</td>\n",
       "    </tr>\n",
       "    <tr>\n",
       "      <th>1</th>\n",
       "      <td>4675</td>\n",
       "      <td>cup</td>\n",
       "      <td>data/images/4675.jpg</td>\n",
       "    </tr>\n",
       "    <tr>\n",
       "      <th>2</th>\n",
       "      <td>0875</td>\n",
       "      <td>glass</td>\n",
       "      <td>data/images/0875.jpg</td>\n",
       "    </tr>\n",
       "    <tr>\n",
       "      <th>3</th>\n",
       "      <td>4436</td>\n",
       "      <td>spoon</td>\n",
       "      <td>data/images/4436.jpg</td>\n",
       "    </tr>\n",
       "    <tr>\n",
       "      <th>4</th>\n",
       "      <td>8265</td>\n",
       "      <td>plate</td>\n",
       "      <td>data/images/8265.jpg</td>\n",
       "    </tr>\n",
       "  </tbody>\n",
       "</table>\n",
       "</div>"
      ],
      "text/plain": [
       "     Id  label              filename\n",
       "0  0560  glass  data/images/0560.jpg\n",
       "1  4675    cup  data/images/4675.jpg\n",
       "2  0875  glass  data/images/0875.jpg\n",
       "3  4436  spoon  data/images/4436.jpg\n",
       "4  8265  plate  data/images/8265.jpg"
      ]
     },
     "execution_count": 2,
     "metadata": {},
     "output_type": "execute_result"
    }
   ],
   "source": [
    "df_train_full = pd.read_csv('data/train.csv', dtype={'Id': str})\n",
    "df_train_full['filename'] = 'data/images/' + df_train_full['Id'] + '.jpg'\n",
    "df_train_full.head()"
   ]
  },
  {
   "cell_type": "code",
   "execution_count": 3,
   "id": "32713ffa",
   "metadata": {},
   "outputs": [],
   "source": [
    "val_cutoff = int(len(df_train_full) * 0.8)\n",
    "df_train = df_train_full[:val_cutoff]\n",
    "df_val = df_train_full[val_cutoff:]"
   ]
  },
  {
   "cell_type": "markdown",
   "id": "f4bfef22",
   "metadata": {},
   "source": [
    "Now let's create image generators"
   ]
  },
  {
   "cell_type": "code",
   "execution_count": 4,
   "id": "2caa27c8",
   "metadata": {},
   "outputs": [],
   "source": [
    "from tensorflow.keras.applications.xception import Xception\n",
    "from tensorflow.keras.applications.xception import preprocess_input\n",
    "\n",
    "from tensorflow.keras.preprocessing.image import ImageDataGenerator"
   ]
  },
  {
   "cell_type": "code",
   "execution_count": 5,
   "id": "c83ced9e",
   "metadata": {
    "scrolled": true
   },
   "outputs": [
    {
     "name": "stdout",
     "output_type": "stream",
     "text": [
      "Found 4447 validated image filenames belonging to 6 classes.\n",
      "Found 1112 validated image filenames belonging to 6 classes.\n"
     ]
    }
   ],
   "source": [
    "train_datagen = ImageDataGenerator(preprocessing_function=preprocess_input,\n",
    "                                   shear_range=10,\n",
    "                                   zoom_range=0.1,\n",
    "                                   horizontal_flip=True,\n",
    "                                   vertical_flip=True\n",
    ")\n",
    "\n",
    "train_generator = train_datagen.flow_from_dataframe(\n",
    "    df_train,\n",
    "    x_col='filename',\n",
    "    y_col='label',\n",
    "    target_size=(299, 299),\n",
    "    batch_size=32,\n",
    ")\n",
    "\n",
    "val_datagen = ImageDataGenerator(preprocessing_function=preprocess_input)\n",
    "\n",
    "val_generator = val_datagen.flow_from_dataframe(\n",
    "    df_val,\n",
    "    x_col='filename',\n",
    "    y_col='label',\n",
    "    target_size=(299, 299),\n",
    "    batch_size=32,\n",
    ")"
   ]
  },
  {
   "cell_type": "code",
   "execution_count": 6,
   "id": "416ccb4c",
   "metadata": {},
   "outputs": [
    {
     "name": "stderr",
     "output_type": "stream",
     "text": [
      "2022-12-16 07:38:35.534453: I tensorflow/stream_executor/cuda/cuda_gpu_executor.cc:975] successful NUMA node read from SysFS had negative value (-1), but there must be at least one NUMA node, so returning NUMA node zero\n",
      "2022-12-16 07:38:35.540906: I tensorflow/stream_executor/cuda/cuda_gpu_executor.cc:975] successful NUMA node read from SysFS had negative value (-1), but there must be at least one NUMA node, so returning NUMA node zero\n",
      "2022-12-16 07:38:35.541626: I tensorflow/stream_executor/cuda/cuda_gpu_executor.cc:975] successful NUMA node read from SysFS had negative value (-1), but there must be at least one NUMA node, so returning NUMA node zero\n",
      "2022-12-16 07:38:35.542832: I tensorflow/core/platform/cpu_feature_guard.cc:193] This TensorFlow binary is optimized with oneAPI Deep Neural Network Library (oneDNN) to use the following CPU instructions in performance-critical operations:  AVX2 AVX512F AVX512_VNNI FMA\n",
      "To enable them in other operations, rebuild TensorFlow with the appropriate compiler flags.\n",
      "2022-12-16 07:38:35.543199: I tensorflow/stream_executor/cuda/cuda_gpu_executor.cc:975] successful NUMA node read from SysFS had negative value (-1), but there must be at least one NUMA node, so returning NUMA node zero\n",
      "2022-12-16 07:38:35.543850: I tensorflow/stream_executor/cuda/cuda_gpu_executor.cc:975] successful NUMA node read from SysFS had negative value (-1), but there must be at least one NUMA node, so returning NUMA node zero\n",
      "2022-12-16 07:38:35.544460: I tensorflow/stream_executor/cuda/cuda_gpu_executor.cc:975] successful NUMA node read from SysFS had negative value (-1), but there must be at least one NUMA node, so returning NUMA node zero\n",
      "2022-12-16 07:38:36.218559: I tensorflow/stream_executor/cuda/cuda_gpu_executor.cc:975] successful NUMA node read from SysFS had negative value (-1), but there must be at least one NUMA node, so returning NUMA node zero\n",
      "2022-12-16 07:38:36.219261: I tensorflow/stream_executor/cuda/cuda_gpu_executor.cc:975] successful NUMA node read from SysFS had negative value (-1), but there must be at least one NUMA node, so returning NUMA node zero\n",
      "2022-12-16 07:38:36.219820: I tensorflow/stream_executor/cuda/cuda_gpu_executor.cc:975] successful NUMA node read from SysFS had negative value (-1), but there must be at least one NUMA node, so returning NUMA node zero\n",
      "2022-12-16 07:38:36.220357: I tensorflow/core/common_runtime/gpu/gpu_device.cc:1532] Created device /job:localhost/replica:0/task:0/device:GPU:0 with 13795 MB memory:  -> device: 0, name: Tesla T4, pci bus id: 0000:00:1e.0, compute capability: 7.5\n"
     ]
    }
   ],
   "source": [
    "base_model = Xception(\n",
    "    weights='imagenet',\n",
    "    include_top=False,\n",
    "    input_shape=(299, 299, 3)\n",
    ")\n",
    "base_model.trainable = False\n",
    "\n",
    "inputs = keras.Input(shape=(299, 299, 3))\n",
    "\n",
    "base = base_model(inputs, training=False)\n",
    "vectors = keras.layers.GlobalAveragePooling2D()(base)\n",
    "outputs = keras.layers.Dense(6)(vectors)\n",
    "\n",
    "model = keras.Model(inputs, outputs)"
   ]
  },
  {
   "cell_type": "code",
   "execution_count": 7,
   "id": "7a7a80f8",
   "metadata": {},
   "outputs": [],
   "source": [
    "learning_rate = 0.001\n",
    "optimizer = keras.optimizers.Adam(learning_rate=learning_rate)\n",
    "\n",
    "loss = keras.losses.CategoricalCrossentropy(from_logits=True)\n",
    "\n",
    "model.compile(optimizer=optimizer, loss=loss, metrics=['accuracy'])"
   ]
  },
  {
   "cell_type": "code",
   "execution_count": 8,
   "id": "0e846ae7",
   "metadata": {},
   "outputs": [
    {
     "name": "stdout",
     "output_type": "stream",
     "text": [
      "Epoch 1/2\n"
     ]
    },
    {
     "name": "stderr",
     "output_type": "stream",
     "text": [
      "2022-12-16 07:39:06.887791: I tensorflow/stream_executor/cuda/cuda_dnn.cc:384] Loaded cuDNN version 8100\n",
      "2022-12-16 07:39:07.551988: I tensorflow/core/platform/default/subprocess.cc:304] Start cannot spawn child process: No such file or directory\n",
      "2022-12-16 07:39:07.552872: I tensorflow/core/platform/default/subprocess.cc:304] Start cannot spawn child process: No such file or directory\n",
      "2022-12-16 07:39:07.552915: W tensorflow/stream_executor/gpu/asm_compiler.cc:80] Couldn't get ptxas version string: INTERNAL: Couldn't invoke ptxas --version\n",
      "2022-12-16 07:39:07.553903: I tensorflow/core/platform/default/subprocess.cc:304] Start cannot spawn child process: No such file or directory\n",
      "2022-12-16 07:39:07.553998: W tensorflow/stream_executor/gpu/redzone_allocator.cc:314] INTERNAL: Failed to launch ptxas\n",
      "Relying on driver to perform ptx compilation. \n",
      "Modify $PATH to customize ptxas location.\n",
      "This message will be only logged once.\n"
     ]
    },
    {
     "name": "stdout",
     "output_type": "stream",
     "text": [
      "139/139 [==============================] - 148s 1s/step - loss: 0.4994 - accuracy: 0.8774 - val_loss: 0.1891 - val_accuracy: 0.9532\n",
      "Epoch 2/2\n",
      "139/139 [==============================] - 135s 971ms/step - loss: 0.2189 - accuracy: 0.9395 - val_loss: 0.1513 - val_accuracy: 0.9577\n"
     ]
    }
   ],
   "source": [
    "history = model.fit(\n",
    "    train_generator,\n",
    "    epochs=2,\n",
    "    validation_data=val_generator\n",
    ")"
   ]
  },
  {
   "cell_type": "markdown",
   "id": "5ee6e149",
   "metadata": {},
   "source": [
    "Now let's use this model to predict the labels for test data"
   ]
  },
  {
   "cell_type": "code",
   "execution_count": 9,
   "id": "40643e85",
   "metadata": {},
   "outputs": [
    {
     "data": {
      "text/html": [
       "<div>\n",
       "<style scoped>\n",
       "    .dataframe tbody tr th:only-of-type {\n",
       "        vertical-align: middle;\n",
       "    }\n",
       "\n",
       "    .dataframe tbody tr th {\n",
       "        vertical-align: top;\n",
       "    }\n",
       "\n",
       "    .dataframe thead th {\n",
       "        text-align: right;\n",
       "    }\n",
       "</style>\n",
       "<table border=\"1\" class=\"dataframe\">\n",
       "  <thead>\n",
       "    <tr style=\"text-align: right;\">\n",
       "      <th></th>\n",
       "      <th>Id</th>\n",
       "      <th>filename</th>\n",
       "    </tr>\n",
       "  </thead>\n",
       "  <tbody>\n",
       "    <tr>\n",
       "      <th>0</th>\n",
       "      <td>0678</td>\n",
       "      <td>data/images/0678.jpg</td>\n",
       "    </tr>\n",
       "    <tr>\n",
       "      <th>1</th>\n",
       "      <td>3962</td>\n",
       "      <td>data/images/3962.jpg</td>\n",
       "    </tr>\n",
       "    <tr>\n",
       "      <th>2</th>\n",
       "      <td>9271</td>\n",
       "      <td>data/images/9271.jpg</td>\n",
       "    </tr>\n",
       "    <tr>\n",
       "      <th>3</th>\n",
       "      <td>5133</td>\n",
       "      <td>data/images/5133.jpg</td>\n",
       "    </tr>\n",
       "    <tr>\n",
       "      <th>4</th>\n",
       "      <td>8842</td>\n",
       "      <td>data/images/8842.jpg</td>\n",
       "    </tr>\n",
       "  </tbody>\n",
       "</table>\n",
       "</div>"
      ],
      "text/plain": [
       "     Id              filename\n",
       "0  0678  data/images/0678.jpg\n",
       "1  3962  data/images/3962.jpg\n",
       "2  9271  data/images/9271.jpg\n",
       "3  5133  data/images/5133.jpg\n",
       "4  8842  data/images/8842.jpg"
      ]
     },
     "execution_count": 9,
     "metadata": {},
     "output_type": "execute_result"
    }
   ],
   "source": [
    "df_test = pd.read_csv('data/test.csv', dtype={'Id': str})\n",
    "df_test['filename'] = 'data/images/' + df_test['Id'] + '.jpg'\n",
    "df_test.head()"
   ]
  },
  {
   "cell_type": "code",
   "execution_count": 11,
   "id": "5fd96ab0",
   "metadata": {},
   "outputs": [
    {
     "name": "stdout",
     "output_type": "stream",
     "text": [
      "Found 3808 validated image filenames.\n"
     ]
    }
   ],
   "source": [
    "test_datagen = ImageDataGenerator(preprocessing_function=preprocess_input)\n",
    "\n",
    "test_generator = test_datagen.flow_from_dataframe(\n",
    "    df_test,\n",
    "    x_col='filename',\n",
    "    class_mode='input',\n",
    "    target_size=(299, 299),\n",
    "    batch_size=32,\n",
    "    shuffle=False\n",
    ")"
   ]
  },
  {
   "cell_type": "code",
   "execution_count": 12,
   "id": "e279456f",
   "metadata": {},
   "outputs": [
    {
     "name": "stdout",
     "output_type": "stream",
     "text": [
      "119/119 [==============================] - 60s 496ms/step\n"
     ]
    }
   ],
   "source": [
    "y_pred = model.predict(test_generator)"
   ]
  },
  {
   "cell_type": "code",
   "execution_count": 13,
   "id": "8e8303d1",
   "metadata": {},
   "outputs": [
    {
     "data": {
      "text/plain": [
       "array(['cup', 'fork', 'glass', 'knife', 'plate', 'spoon'], dtype='<U5')"
      ]
     },
     "execution_count": 13,
     "metadata": {},
     "output_type": "execute_result"
    }
   ],
   "source": [
    "classes = np.array(list(train_generator.class_indices.keys()))\n",
    "classes"
   ]
  },
  {
   "cell_type": "code",
   "execution_count": 14,
   "id": "cb3f8017",
   "metadata": {},
   "outputs": [],
   "source": [
    "predictions = classes[y_pred.argmax(axis=1)]"
   ]
  },
  {
   "cell_type": "markdown",
   "id": "e0194490",
   "metadata": {},
   "source": [
    "Finally, we need to prepare the submission"
   ]
  },
  {
   "cell_type": "code",
   "execution_count": 15,
   "id": "da13e38c",
   "metadata": {},
   "outputs": [
    {
     "data": {
      "text/html": [
       "<div>\n",
       "<style scoped>\n",
       "    .dataframe tbody tr th:only-of-type {\n",
       "        vertical-align: middle;\n",
       "    }\n",
       "\n",
       "    .dataframe tbody tr th {\n",
       "        vertical-align: top;\n",
       "    }\n",
       "\n",
       "    .dataframe thead th {\n",
       "        text-align: right;\n",
       "    }\n",
       "</style>\n",
       "<table border=\"1\" class=\"dataframe\">\n",
       "  <thead>\n",
       "    <tr style=\"text-align: right;\">\n",
       "      <th></th>\n",
       "      <th>label</th>\n",
       "      <th>Id</th>\n",
       "    </tr>\n",
       "  </thead>\n",
       "  <tbody>\n",
       "    <tr>\n",
       "      <th>0</th>\n",
       "      <td>spoon</td>\n",
       "      <td>0678</td>\n",
       "    </tr>\n",
       "    <tr>\n",
       "      <th>1</th>\n",
       "      <td>knife</td>\n",
       "      <td>3962</td>\n",
       "    </tr>\n",
       "    <tr>\n",
       "      <th>2</th>\n",
       "      <td>fork</td>\n",
       "      <td>9271</td>\n",
       "    </tr>\n",
       "    <tr>\n",
       "      <th>3</th>\n",
       "      <td>plate</td>\n",
       "      <td>5133</td>\n",
       "    </tr>\n",
       "    <tr>\n",
       "      <th>4</th>\n",
       "      <td>fork</td>\n",
       "      <td>8842</td>\n",
       "    </tr>\n",
       "    <tr>\n",
       "      <th>...</th>\n",
       "      <td>...</td>\n",
       "      <td>...</td>\n",
       "    </tr>\n",
       "    <tr>\n",
       "      <th>3803</th>\n",
       "      <td>plate</td>\n",
       "      <td>7626</td>\n",
       "    </tr>\n",
       "    <tr>\n",
       "      <th>3804</th>\n",
       "      <td>cup</td>\n",
       "      <td>2052</td>\n",
       "    </tr>\n",
       "    <tr>\n",
       "      <th>3805</th>\n",
       "      <td>spoon</td>\n",
       "      <td>8827</td>\n",
       "    </tr>\n",
       "    <tr>\n",
       "      <th>3806</th>\n",
       "      <td>fork</td>\n",
       "      <td>2299</td>\n",
       "    </tr>\n",
       "    <tr>\n",
       "      <th>3807</th>\n",
       "      <td>spoon</td>\n",
       "      <td>2212</td>\n",
       "    </tr>\n",
       "  </tbody>\n",
       "</table>\n",
       "<p>3808 rows × 2 columns</p>\n",
       "</div>"
      ],
      "text/plain": [
       "      label    Id\n",
       "0     spoon  0678\n",
       "1     knife  3962\n",
       "2      fork  9271\n",
       "3     plate  5133\n",
       "4      fork  8842\n",
       "...     ...   ...\n",
       "3803  plate  7626\n",
       "3804    cup  2052\n",
       "3805  spoon  8827\n",
       "3806   fork  2299\n",
       "3807  spoon  2212\n",
       "\n",
       "[3808 rows x 2 columns]"
      ]
     },
     "execution_count": 15,
     "metadata": {},
     "output_type": "execute_result"
    }
   ],
   "source": [
    "df_submission = pd.DataFrame()\n",
    "df_submission['filename'] = test_generator.filenames\n",
    "df_submission['label'] = predictions\n",
    "\n",
    "df_submission['Id'] = df_submission.filename.str[len('data/images/'):-4]\n",
    "del df_submission['filename']\n",
    "df_submission"
   ]
  },
  {
   "cell_type": "code",
   "execution_count": 17,
   "id": "3822fafd",
   "metadata": {},
   "outputs": [],
   "source": [
    "df_submission[['Id', 'label']].to_csv('submission.csv', index=False)"
   ]
  },
  {
   "cell_type": "code",
   "execution_count": null,
   "id": "5081abc1",
   "metadata": {},
   "outputs": [
    {
     "name": "stdout",
     "output_type": "stream",
     "text": [
      "100%|██████████████████████████████████████| 38.8k/38.8k [00:00<00:00, 46.2kB/s]\n"
     ]
    }
   ],
   "source": [
    "!kaggle competitions submit kitchenware-classification -f submission.csv -m 'validation: 0.9577'"
   ]
  },
  {
   "cell_type": "code",
   "execution_count": null,
   "id": "63ad10a4",
   "metadata": {},
   "outputs": [],
   "source": []
  }
 ],
 "metadata": {
  "kernelspec": {
   "display_name": "saturn (Python 3)",
   "language": "python",
   "name": "python3"
  },
  "language_info": {
   "codemirror_mode": {
    "name": "ipython",
    "version": 3
   },
   "file_extension": ".py",
   "mimetype": "text/x-python",
   "name": "python",
   "nbconvert_exporter": "python",
   "pygments_lexer": "ipython3",
   "version": "3.9.13"
  }
 },
 "nbformat": 4,
 "nbformat_minor": 5
}
